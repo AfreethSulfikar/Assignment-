{
  "nbformat": 4,
  "nbformat_minor": 0,
  "metadata": {
    "colab": {
      "provenance": [],
      "authorship_tag": "ABX9TyNEnEx0keCEG7/s2DlA2Fr4",
      "include_colab_link": true
    },
    "kernelspec": {
      "name": "python3",
      "display_name": "Python 3"
    },
    "language_info": {
      "name": "python"
    }
  },
  "cells": [
    {
      "cell_type": "markdown",
      "metadata": {
        "id": "view-in-github",
        "colab_type": "text"
      },
      "source": [
        "<a href=\"https://colab.research.google.com/github/AfreethSulfikar/Ineuron-Assignments/blob/main/Programming_Assignments_5.ipynb\" target=\"_parent\"><img src=\"https://colab.research.google.com/assets/colab-badge.svg\" alt=\"Open In Colab\"/></a>"
      ]
    },
    {
      "cell_type": "markdown",
      "source": [
        "1. Python program to find LCM:"
      ],
      "metadata": {
        "id": "E2l78LfRNn_Q"
      }
    },
    {
      "cell_type": "code",
      "execution_count": 6,
      "metadata": {
        "colab": {
          "base_uri": "https://localhost:8080/"
        },
        "id": "IlYsbQn3Njhf",
        "outputId": "6d6f0c3b-054b-4da7-849e-be79efaddf12"
      },
      "outputs": [
        {
          "output_type": "stream",
          "name": "stdout",
          "text": [
            "LCM of 12 and 20 is: 60\n"
          ]
        }
      ],
      "source": [
        "def lcm(num1, num2):\n",
        "    \"\"\"\n",
        "    This function returns the LCM of two numbers\n",
        "    \"\"\"\n",
        "    # Finding the maximum number between two numbers\n",
        "    max_num = max(num1, num2)\n",
        "    \n",
        "    while True:\n",
        "        if max_num % num1 == 0 and max_num % num2 == 0:\n",
        "            lcm = max_num\n",
        "            break\n",
        "        max_num += 1\n",
        "        \n",
        "    return lcm\n",
        "\n",
        "# Testing the function\n",
        "print(\"LCM of 12 and 20 is:\", lcm(12, 20))\n",
        "\n"
      ]
    },
    {
      "cell_type": "markdown",
      "source": [
        "2. Python program to find HCF:"
      ],
      "metadata": {
        "id": "gHs7gE4CNrhx"
      }
    },
    {
      "cell_type": "code",
      "source": [
        "def hcf(num1, num2):\n",
        "    \"\"\"\n",
        "    This function returns the HCF of two numbers\n",
        "    \"\"\"\n",
        "    # Finding the minimum number between two numbers\n",
        "    min_num = min(num1, num2)\n",
        "    \n",
        "    for i in range(1, min_num+1):\n",
        "        if num1 % i == 0 and num2 % i == 0:\n",
        "            hcf = i\n",
        "            \n",
        "    return hcf\n",
        "\n",
        "# Testing the function\n",
        "print(\"HCF of 12 and 20 is:\", hcf(12, 20))\n"
      ],
      "metadata": {
        "colab": {
          "base_uri": "https://localhost:8080/"
        },
        "id": "JeG3glPNNrUs",
        "outputId": "5df3adaa-bd95-45df-c284-c893b0b23f4c"
      },
      "execution_count": 7,
      "outputs": [
        {
          "output_type": "stream",
          "name": "stdout",
          "text": [
            "HCF of 12 and 20 is: 4\n"
          ]
        }
      ]
    },
    {
      "cell_type": "markdown",
      "source": [
        "3. Python program to convert Decimal to Binary, Octal and Hexadecimal:"
      ],
      "metadata": {
        "id": "G7Yh5olNN-_M"
      }
    },
    {
      "cell_type": "code",
      "source": [
        "dec_num = int(input(\"Enter a decimal number: \"))\n",
        "\n",
        "# Converting decimal to binary\n",
        "binary_num = bin(dec_num)\n",
        "print(\"Binary equivalent:\", binary_num)\n",
        "\n",
        "# Converting decimal to octal\n",
        "octal_num = oct(dec_num)\n",
        "print(\"Octal equivalent:\", octal_num)\n",
        "\n",
        "# Converting decimal to hexadecimal\n",
        "hex_num = hex(dec_num)\n",
        "print(\"Hexadecimal equivalent:\", hex_num)\n"
      ],
      "metadata": {
        "colab": {
          "base_uri": "https://localhost:8080/"
        },
        "id": "nJo2hc9LOAeF",
        "outputId": "5160e81d-2e8a-4a86-a8cd-5ff150234e07"
      },
      "execution_count": 8,
      "outputs": [
        {
          "output_type": "stream",
          "name": "stdout",
          "text": [
            "Enter a decimal number: 34\n",
            "Binary equivalent: 0b100010\n",
            "Octal equivalent: 0o42\n",
            "Hexadecimal equivalent: 0x22\n"
          ]
        }
      ]
    },
    {
      "cell_type": "markdown",
      "source": [
        "4. Python program to find ASCII value of a character:"
      ],
      "metadata": {
        "id": "JyPzyIM0OFTO"
      }
    },
    {
      "cell_type": "code",
      "source": [
        "char = input(\"Enter a character: \")\n",
        "ascii_val = ord(char)\n",
        "print(\"ASCII value of\", char, \"is:\", ascii_val)\n"
      ],
      "metadata": {
        "colab": {
          "base_uri": "https://localhost:8080/"
        },
        "id": "eUGJxWATOHnM",
        "outputId": "02240eb4-661b-42f3-ff60-d721f129c8ec"
      },
      "execution_count": 11,
      "outputs": [
        {
          "output_type": "stream",
          "name": "stdout",
          "text": [
            "Enter a character: a\n",
            "ASCII value of a is: 97\n"
          ]
        }
      ]
    },
    {
      "cell_type": "markdown",
      "source": [
        "5. Python program to make a simple calculator with 4 basic mathematical operations:"
      ],
      "metadata": {
        "id": "bDqUp6G0OP6b"
      }
    },
    {
      "cell_type": "code",
      "source": [
        "def add(num1, num2):\n",
        "    return num1 + num2\n",
        "\n",
        "def subtract(num1, num2):\n",
        "    return num1 - num2\n",
        "\n",
        "def multiply(num1, num2):\n",
        "    return num1 * num2\n",
        "\n",
        "def divide(num1, num2):\n",
        "    return num1 / num2\n",
        "\n",
        "print(\"Select operation:\")\n",
        "print(\"1. Add\")\n",
        "print(\"2. Subtract\")\n",
        "print(\"3. Multiply\")\n",
        "print(\"4. Divide\")\n",
        "\n",
        "# Take input from the user\n",
        "choice = int(input(\"Enter choice (1/2/3/4): \"))\n",
        "\n",
        "num1 = float(input(\"Enter first number: \"))\n",
        "num2 = float(input(\"Enter second number: \"))\n",
        "\n",
        "if choice == 1:\n",
        "    print(num1, \"+\", num2, \"=\", add(num1, num2))\n",
        "\n",
        "elif choice == 2:\n",
        "    print(num1, \"-\", num2, \"=\", subtract(num1, num2))\n",
        "\n",
        "elif choice == 3:\n",
        "    print(num1, \"*\", num2, \"=\", multiply(num1, num2))\n",
        "\n",
        "elif choice == 4:\n",
        "    print(num1, \"/\", num2, \"=\", divide(num1, num2))\n",
        "else:\n",
        "    print(\"Invalid input\")\n"
      ],
      "metadata": {
        "colab": {
          "base_uri": "https://localhost:8080/"
        },
        "id": "tHDq_5l0OUyC",
        "outputId": "9f3ad66d-95fe-4605-ddb0-10682510b4a9"
      },
      "execution_count": 12,
      "outputs": [
        {
          "output_type": "stream",
          "name": "stdout",
          "text": [
            "Select operation:\n",
            "1. Add\n",
            "2. Subtract\n",
            "3. Multiply\n",
            "4. Divide\n",
            "Enter choice (1/2/3/4): 5\n",
            "Enter first number: 5\n",
            "Enter second number: 6\n",
            "Invalid input\n"
          ]
        }
      ]
    },
    {
      "cell_type": "markdown",
      "source": [
        "5. Python program to make a simple calculator with 4 basic mathematical operations:"
      ],
      "metadata": {
        "id": "PgM8yB0dOJYD"
      }
    }
  ]
}