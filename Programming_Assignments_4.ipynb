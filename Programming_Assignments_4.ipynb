{
  "nbformat": 4,
  "nbformat_minor": 0,
  "metadata": {
    "colab": {
      "provenance": [],
      "authorship_tag": "ABX9TyM61IIXmgD3PdGnLsxdnHtr",
      "include_colab_link": true
    },
    "kernelspec": {
      "name": "python3",
      "display_name": "Python 3"
    },
    "language_info": {
      "name": "python"
    }
  },
  "cells": [
    {
      "cell_type": "markdown",
      "metadata": {
        "id": "view-in-github",
        "colab_type": "text"
      },
      "source": [
        "<a href=\"https://colab.research.google.com/github/AfreethSulfikar/Ineuron-Assignments/blob/main/Programming_Assignments_4.ipynb\" target=\"_parent\"><img src=\"https://colab.research.google.com/assets/colab-badge.svg\" alt=\"Open In Colab\"/></a>"
      ]
    },
    {
      "cell_type": "markdown",
      "source": [
        "1. Python Program to Find the Factorial of a Number:"
      ],
      "metadata": {
        "id": "UR4r1kH3LQd6"
      }
    },
    {
      "cell_type": "code",
      "execution_count": 1,
      "metadata": {
        "colab": {
          "base_uri": "https://localhost:8080/"
        },
        "id": "K5MbXJUyLK5P",
        "outputId": "90c2b808-a3a9-49b0-f6a7-90c580e0573b"
      },
      "outputs": [
        {
          "output_type": "stream",
          "name": "stdout",
          "text": [
            "Enter a number: 242\n",
            "Factorial of 242 is 237247210178623723703426334892958125059854373538060844813080307628770480085577974436018772759216742553963081960919635893998780435259246134547881589622620340072453148700826284168688557330915141203869262518766461469500859307795985863510728745569813658376580246332477245306547596895933639183197194036647794011478918338745708588469364573875187793821870649157970481220900578387759868682970073562573845836078777030011781120000000000000000000000000000000000000000000000000000000000\n"
          ]
        }
      ],
      "source": [
        "num = int(input(\"Enter a number: \"))\n",
        "\n",
        "# initialize factorial to 1\n",
        "factorial = 1\n",
        "\n",
        "# check if the number is negative, positive, or zero\n",
        "if num < 0:\n",
        "    print(\"Factorial does not exist for negative numbers\")\n",
        "elif num == 0:\n",
        "    print(\"Factorial of 0 is 1\")\n",
        "else:\n",
        "    for i in range(1, num + 1):\n",
        "        factorial = factorial * i\n",
        "    print(\"Factorial of\", num, \"is\", factorial)\n"
      ]
    },
    {
      "cell_type": "markdown",
      "source": [
        "\n",
        "2. Python Program to Display the Multiplication Table:\n"
      ],
      "metadata": {
        "id": "e33u3UW7LUPJ"
      }
    },
    {
      "cell_type": "code",
      "source": [
        "num = int(input(\"Enter a number: \"))\n",
        "\n",
        "# use a for loop to print the multiplication table\n",
        "for i in range(1, 11):\n",
        "    print(num, \"x\", i, \"=\", num*i)\n"
      ],
      "metadata": {
        "colab": {
          "base_uri": "https://localhost:8080/"
        },
        "id": "r6VzzAyeLVTT",
        "outputId": "faacb4e2-e13a-4e57-bec5-de6b45cc2558"
      },
      "execution_count": 2,
      "outputs": [
        {
          "output_type": "stream",
          "name": "stdout",
          "text": [
            "Enter a number: 344\n",
            "344 x 1 = 344\n",
            "344 x 2 = 688\n",
            "344 x 3 = 1032\n",
            "344 x 4 = 1376\n",
            "344 x 5 = 1720\n",
            "344 x 6 = 2064\n",
            "344 x 7 = 2408\n",
            "344 x 8 = 2752\n",
            "344 x 9 = 3096\n",
            "344 x 10 = 3440\n"
          ]
        }
      ]
    },
    {
      "cell_type": "markdown",
      "source": [
        "3. Python Program to Print the Fibonacci Sequence:"
      ],
      "metadata": {
        "id": "EKuIqQx6LZjW"
      }
    },
    {
      "cell_type": "code",
      "source": [
        "terms = int(input(\"Enter the number of terms: \"))\n",
        "\n",
        "# initialize the first two terms of the sequence\n",
        "first_term = 0\n",
        "second_term = 1\n",
        "\n",
        "# check if the number of terms is valid\n",
        "if terms <= 0:\n",
        "    print(\"Invalid input. Please enter a positive integer.\")\n",
        "elif terms == 1:\n",
        "    print(\"Fibonacci sequence up to\", terms, \"term(s):\")\n",
        "    print(first_term)\n",
        "else:\n",
        "    print(\"Fibonacci sequence up to\", terms, \"term(s):\")\n",
        "    print(first_term)\n",
        "    print(second_term)\n",
        "    for i in range(2, terms):\n",
        "        next_term = first_term + second_term\n",
        "        print(next_term)\n",
        "        first_term = second_term\n",
        "        second_term = next_term\n"
      ],
      "metadata": {
        "colab": {
          "base_uri": "https://localhost:8080/"
        },
        "id": "HMBRa-e4Lbxz",
        "outputId": "9bf6899c-4418-493b-efd3-2dd182b1bcaa"
      },
      "execution_count": 3,
      "outputs": [
        {
          "output_type": "stream",
          "name": "stdout",
          "text": [
            "Enter the number of terms: 23\n",
            "Fibonacci sequence up to 23 term(s):\n",
            "0\n",
            "1\n",
            "1\n",
            "2\n",
            "3\n",
            "5\n",
            "8\n",
            "13\n",
            "21\n",
            "34\n",
            "55\n",
            "89\n",
            "144\n",
            "233\n",
            "377\n",
            "610\n",
            "987\n",
            "1597\n",
            "2584\n",
            "4181\n",
            "6765\n",
            "10946\n",
            "17711\n"
          ]
        }
      ]
    },
    {
      "cell_type": "markdown",
      "source": [
        "4. Python Program to Check Armstrong Number:"
      ],
      "metadata": {
        "id": "8-zqYoeULhCh"
      }
    },
    {
      "cell_type": "code",
      "source": [
        "num = int(input(\"Enter a number: \"))\n",
        "\n",
        "# calculate the number of digits in the number\n",
        "num_of_digits = len(str(num))\n",
        "\n",
        "# initialize the sum variable\n",
        "sum = 0\n",
        "\n",
        "# calculate the sum of the cube of each digit\n",
        "temp = num\n",
        "while temp > 0:\n",
        "    digit = temp % 10\n",
        "    sum += digit ** num_of_digits\n",
        "    temp //= 10\n",
        "\n",
        "# check if the number is an Armstrong number or not\n",
        "if num == sum:\n",
        "    print(num, \"is an Armstrong number\")\n",
        "else:\n",
        "    print(num, \"is not an Armstrong number\")\n",
        "\n"
      ],
      "metadata": {
        "colab": {
          "base_uri": "https://localhost:8080/"
        },
        "id": "cbpT8VuCLiVO",
        "outputId": "ccaaa13b-27c7-4abe-ca90-53d110f4f56d"
      },
      "execution_count": 15,
      "outputs": [
        {
          "output_type": "stream",
          "name": "stdout",
          "text": [
            "Enter a number: 3\n",
            "3 is an Armstrong number\n"
          ]
        }
      ]
    },
    {
      "cell_type": "markdown",
      "source": [
        "5. Python Program to Find Armstrong Numbers in an Interval:"
      ],
      "metadata": {
        "id": "Ne97eh7JL9NN"
      }
    },
    {
      "cell_type": "code",
      "source": [
        "lower_limit = int(input(\"Enter the lower limit: \"))\n",
        "upper_limit = int(input(\"Enter the upper limit: \"))\n",
        "\n",
        "# use a for loop to check each number in the interval\n",
        "for num in range(lower_limit, upper_limit+1):\n",
        "    # calculate the number of digits in the number\n",
        "    num_of_digits = len(str(num))\n",
        "\n",
        "    # initialize the sum variable\n",
        "    sum = 0\n",
        "\n",
        "    # calculate the sum of the cube of each digit\n",
        "    temp = num\n",
        "    while temp > 0:\n",
        "        digit = temp % 10\n",
        "        sum += digit ** num_of_digits\n",
        "        temp //= 10\n",
        "\n",
        "    # check if the number is an Armstrong number or not\n",
        "    if num == sum:\n",
        "        print(num)\n"
      ],
      "metadata": {
        "colab": {
          "base_uri": "https://localhost:8080/"
        },
        "id": "ZDTCh2cvL-ZJ",
        "outputId": "6dca8439-0b56-405f-96f2-f358c2c6de46"
      },
      "execution_count": 16,
      "outputs": [
        {
          "name": "stdout",
          "output_type": "stream",
          "text": [
            "Enter the lower limit: 23\n",
            "Enter the upper limit: 23\n"
          ]
        }
      ]
    },
    {
      "cell_type": "markdown",
      "source": [
        "6. Python Program to Find the Sum of Natural Numbers:"
      ],
      "metadata": {
        "id": "9UAqjwQjMBNp"
      }
    },
    {
      "cell_type": "code",
      "source": [
        "n = int(input(\"Enter a positive integer: \"))\n",
        "\n",
        "# initialize the sum variable\n",
        "sum = 0\n"
      ],
      "metadata": {
        "colab": {
          "base_uri": "https://localhost:8080/"
        },
        "id": "vc1eqI0BMDZI",
        "outputId": "e62a734e-caaa-4621-e1e7-5c6b1521ff82"
      },
      "execution_count": 17,
      "outputs": [
        {
          "name": "stdout",
          "output_type": "stream",
          "text": [
            "Enter a positive integer: 23\n"
          ]
        }
      ]
    }
  ]
}