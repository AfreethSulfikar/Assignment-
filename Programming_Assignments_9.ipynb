{
  "nbformat": 4,
  "nbformat_minor": 0,
  "metadata": {
    "colab": {
      "provenance": [],
      "authorship_tag": "ABX9TyMA0wH3rA6Yf8O9gM8rTg7I",
      "include_colab_link": true
    },
    "kernelspec": {
      "name": "python3",
      "display_name": "Python 3"
    },
    "language_info": {
      "name": "python"
    }
  },
  "cells": [
    {
      "cell_type": "markdown",
      "metadata": {
        "id": "view-in-github",
        "colab_type": "text"
      },
      "source": [
        "<a href=\"https://colab.research.google.com/github/AfreethSulfikar/Ineuron-Assignments/blob/main/Programming_Assignments_9.ipynb\" target=\"_parent\"><img src=\"https://colab.research.google.com/assets/colab-badge.svg\" alt=\"Open In Colab\"/></a>"
      ]
    },
    {
      "cell_type": "markdown",
      "source": [
        "1. Python program to check if the given number is a Disarium Number:"
      ],
      "metadata": {
        "id": "_vB7nLf9QnFz"
      }
    },
    {
      "cell_type": "code",
      "execution_count": 1,
      "metadata": {
        "colab": {
          "base_uri": "https://localhost:8080/"
        },
        "id": "09350M-MQlW_",
        "outputId": "eaa4146d-11d5-436e-e03f-92c85adf8dd6"
      },
      "outputs": [
        {
          "output_type": "stream",
          "name": "stdout",
          "text": [
            "Enter a number: 45\n",
            "45 is not a Disarium number\n"
          ]
        }
      ],
      "source": [
        "num = int(input(\"Enter a number: \"))\n",
        "sum = 0\n",
        "temp = num\n",
        "length = len(str(num))\n",
        "\n",
        "while temp > 0:\n",
        "    digit = temp % 10\n",
        "    sum += digit ** length\n",
        "    length -= 1\n",
        "    temp //= 10\n",
        "\n",
        "if num == sum:\n",
        "    print(num, \"is a Disarium number\")\n",
        "else:\n",
        "    print(num, \"is not a Disarium number\")\n"
      ]
    },
    {
      "cell_type": "markdown",
      "source": [
        "2. Python program to print all disarium numbers between 1 to 100:"
      ],
      "metadata": {
        "id": "gTrZyUheQrAE"
      }
    },
    {
      "cell_type": "code",
      "source": [
        "def is_disarium(num):\n",
        "    sum = 0\n",
        "    temp = num\n",
        "    length = len(str(num))\n",
        "\n",
        "    while temp > 0:\n",
        "        digit = temp % 10\n",
        "        sum += digit ** length\n",
        "        length -= 1\n",
        "        temp //= 10\n",
        "\n",
        "    if num == sum:\n",
        "        return True\n",
        "    else:\n",
        "        return False\n",
        "\n",
        "for i in range(1, 101):\n",
        "    if is_disarium(i):\n",
        "        print(i)\n"
      ],
      "metadata": {
        "colab": {
          "base_uri": "https://localhost:8080/"
        },
        "id": "y-7--_rhQrFl",
        "outputId": "b3766fbc-eac3-4553-8262-5c77da37b6a0"
      },
      "execution_count": 2,
      "outputs": [
        {
          "output_type": "stream",
          "name": "stdout",
          "text": [
            "1\n",
            "2\n",
            "3\n",
            "4\n",
            "5\n",
            "6\n",
            "7\n",
            "8\n",
            "9\n",
            "89\n"
          ]
        }
      ]
    },
    {
      "cell_type": "markdown",
      "source": [
        "3. Python program to check if the given number is a Happy Number:"
      ],
      "metadata": {
        "id": "OXqIIuNXQwDJ"
      }
    },
    {
      "cell_type": "code",
      "source": [
        "def is_happy(num):\n",
        "    def square_sum(n):\n",
        "        sum = 0\n",
        "        while n > 0:\n",
        "            digit = n % 10\n",
        "            sum += digit ** 2\n",
        "            n //= 10\n",
        "        return sum\n",
        "\n",
        "    seen = set()\n",
        "    while num != 1 and num not in seen:\n",
        "        seen.add(num)\n",
        "        num = square_sum(num)\n",
        "\n",
        "    if num == 1:\n",
        "        return True\n",
        "    else:\n",
        "        return False\n",
        "\n",
        "num = int(input(\"Enter a number: \"))\n",
        "if is_happy(num):\n",
        "    print(num, \"is a Happy number\")\n",
        "else:\n",
        "    print(num, \"is not a Happy number\")\n"
      ],
      "metadata": {
        "colab": {
          "base_uri": "https://localhost:8080/"
        },
        "id": "2niysRRVQwNX",
        "outputId": "853beac6-a5d0-4da8-b2c0-dfea77455f11"
      },
      "execution_count": 3,
      "outputs": [
        {
          "output_type": "stream",
          "name": "stdout",
          "text": [
            "Enter a number: 2\n",
            "2 is not a Happy number\n"
          ]
        }
      ]
    },
    {
      "cell_type": "markdown",
      "source": [
        "4. Python program to print all happy numbers between 1 and 100:"
      ],
      "metadata": {
        "id": "oAO89Gy-Q-vD"
      }
    },
    {
      "cell_type": "code",
      "source": [
        "def is_happy(num):\n",
        "    def square_sum(n):\n",
        "        sum = 0\n",
        "        while n > 0:\n",
        "            digit = n % 10\n",
        "            sum += digit ** 2\n",
        "            n //= 10\n",
        "        return sum\n",
        "\n",
        "    seen = set()\n",
        "    while num != 1 and num not in seen:\n",
        "        seen.add(num)\n",
        "        num = square_sum(num)\n",
        "\n",
        "    if num == 1:\n",
        "        return True\n",
        "    else:\n",
        "        return False\n",
        "\n",
        "for i in range(1, 101):\n",
        "    if is_happy(i):\n",
        "        print(i)\n"
      ],
      "metadata": {
        "colab": {
          "base_uri": "https://localhost:8080/"
        },
        "id": "YP08wa2MQ_A2",
        "outputId": "f3588da6-bd9b-4567-cbf0-2d3136c65c7e"
      },
      "execution_count": 4,
      "outputs": [
        {
          "output_type": "stream",
          "name": "stdout",
          "text": [
            "1\n",
            "7\n",
            "10\n",
            "13\n",
            "19\n",
            "23\n",
            "28\n",
            "31\n",
            "32\n",
            "44\n",
            "49\n",
            "68\n",
            "70\n",
            "79\n",
            "82\n",
            "86\n",
            "91\n",
            "94\n",
            "97\n",
            "100\n"
          ]
        }
      ]
    },
    {
      "cell_type": "markdown",
      "source": [
        "5. Python program to determine whether the given number is a Harshad Number:"
      ],
      "metadata": {
        "id": "QEnyCgvHRDBW"
      }
    },
    {
      "cell_type": "code",
      "source": [
        "num = int(input(\"Enter a number: \"))\n",
        "sum = 0\n",
        "temp = num\n",
        "\n",
        "while temp > 0:\n",
        "    digit = temp % 10\n",
        "    sum += digit\n",
        "    temp //= 10\n",
        "\n",
        "if num % sum == 0:\n",
        "    print(num, \"is a Harshad number\")\n",
        "else:\n",
        "    print(num, \"is not a Harshad number\")\n"
      ],
      "metadata": {
        "colab": {
          "base_uri": "https://localhost:8080/"
        },
        "id": "Wj3i1vHtRDI1",
        "outputId": "540d9e48-d402-4d97-ad95-0c739b85c897"
      },
      "execution_count": 5,
      "outputs": [
        {
          "output_type": "stream",
          "name": "stdout",
          "text": [
            "Enter a number: 2\n",
            "2 is a Harshad number\n"
          ]
        }
      ]
    },
    {
      "cell_type": "markdown",
      "source": [
        "6. Python program to print all pronic numbers between 1 and 100:"
      ],
      "metadata": {
        "id": "r_A4NE-TRGdu"
      }
    },
    {
      "cell_type": "code",
      "source": [
        "def is_pronic(num):\n",
        "    for i in range(1, num):\n",
        "        if i * (i + 1) == num:\n",
        "            return True\n",
        "    return False\n",
        "\n",
        "for i in range(1, 101):\n",
        "    if is_pronic(i):\n",
        "        print(i)\n"
      ],
      "metadata": {
        "id": "pfV4ttRWRGjl",
        "outputId": "a8f99565-d0f4-46c5-bac0-939e1d4810d9",
        "colab": {
          "base_uri": "https://localhost:8080/"
        }
      },
      "execution_count": 6,
      "outputs": [
        {
          "output_type": "stream",
          "name": "stdout",
          "text": [
            "2\n",
            "6\n",
            "12\n",
            "20\n",
            "30\n",
            "42\n",
            "56\n",
            "72\n",
            "90\n"
          ]
        }
      ]
    }
  ]
}