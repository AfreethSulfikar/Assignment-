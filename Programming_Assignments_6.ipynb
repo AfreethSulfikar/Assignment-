{
  "nbformat": 4,
  "nbformat_minor": 0,
  "metadata": {
    "colab": {
      "provenance": [],
      "authorship_tag": "ABX9TyM3pTDRm598R7+LxIH89FEH",
      "include_colab_link": true
    },
    "kernelspec": {
      "name": "python3",
      "display_name": "Python 3"
    },
    "language_info": {
      "name": "python"
    }
  },
  "cells": [
    {
      "cell_type": "markdown",
      "metadata": {
        "id": "view-in-github",
        "colab_type": "text"
      },
      "source": [
        "<a href=\"https://colab.research.google.com/github/AfreethSulfikar/Ineuron-Assignments/blob/main/Programming_Assignments_6.ipynb\" target=\"_parent\"><img src=\"https://colab.research.google.com/assets/colab-badge.svg\" alt=\"Open In Colab\"/></a>"
      ]
    },
    {
      "cell_type": "markdown",
      "source": [
        "1. Python Program to Display Fibonacci Sequence Using Recursion:"
      ],
      "metadata": {
        "id": "OMMVcjgTOsd5"
      }
    },
    {
      "cell_type": "code",
      "execution_count": null,
      "metadata": {
        "id": "gFThQ361OkOQ"
      },
      "outputs": [],
      "source": [
        "def fibonacci_recursive(n):\n",
        "    if n <= 1:\n",
        "        return n\n",
        "    else:\n",
        "        return fibonacci_recursive(n-1) + fibonacci_recursive(n-2)\n",
        "\n",
        "nterms = int(input(\"Enter the number of terms: \"))\n",
        "\n",
        "if nterms <= 0:\n",
        "    print(\"Please enter a positive integer\")\n",
        "else:\n",
        "    print(\"Fibonacci sequence:\")\n",
        "    for i in range(nterms):\n",
        "        print(fibonacci_recursive(i))\n"
      ]
    },
    {
      "cell_type": "markdown",
      "source": [
        "2. Python Program to Find Factorial of Number Using Recursion:"
      ],
      "metadata": {
        "id": "jjC9DW7_O3QU"
      }
    },
    {
      "cell_type": "code",
      "source": [
        "def factorial_recursive(n):\n",
        "    if n == 1:\n",
        "        return n\n",
        "    else:\n",
        "        return n * factorial_recursive(n-1)\n",
        "\n",
        "num = int(input(\"Enter a number: \"))\n",
        "\n",
        "if num < 0:\n",
        "    print(\"Factorial does not exist for negative numbers\")\n",
        "elif num == 0:\n",
        "    print(\"The factorial of 0 is 1\")\n",
        "else:\n",
        "    print(f\"The factorial of {num} is {factorial_recursive(num)}\")\n"
      ],
      "metadata": {
        "colab": {
          "base_uri": "https://localhost:8080/"
        },
        "id": "IBIObugcO2XO",
        "outputId": "7cd1bb6d-f14d-467c-f6de-02304dbc7738"
      },
      "execution_count": 2,
      "outputs": [
        {
          "output_type": "stream",
          "name": "stdout",
          "text": [
            "Enter a number: 34\n",
            "The factorial of 34 is 295232799039604140847618609643520000000\n"
          ]
        }
      ]
    },
    {
      "cell_type": "markdown",
      "source": [
        "3. Python Program to Calculate Your Body Mass Index:"
      ],
      "metadata": {
        "id": "SrrAwOtuO3Vj"
      }
    },
    {
      "cell_type": "code",
      "source": [
        "height = float(input(\"Enter your height in meters: \"))\n",
        "weight = float(input(\"Enter your weight in kilograms: \"))\n",
        "\n",
        "bmi = weight / (height ** 2)\n",
        "\n",
        "print(f\"Your BMI is {bmi:.2f}\")\n",
        "\n",
        "if bmi < 18.5:\n",
        "    print(\"You are underweight.\")\n",
        "elif bmi >= 18.5 and bmi < 25:\n",
        "    print(\"You are of normal weight.\")\n",
        "elif bmi >= 25 and bmi < 30:\n",
        "    print(\"You are overweight.\")\n",
        "else:\n",
        "    print(\"You are obese.\")\n"
      ],
      "metadata": {
        "colab": {
          "base_uri": "https://localhost:8080/"
        },
        "id": "cJR6Fw8OPAJ1",
        "outputId": "a6a3bb84-c827-4e7f-d587-fc737cc96b52"
      },
      "execution_count": 4,
      "outputs": [
        {
          "output_type": "stream",
          "name": "stdout",
          "text": [
            "Enter your height in meters: 173\n",
            "Enter your weight in kilograms: 84\n",
            "Your BMI is 0.00\n",
            "You are underweight.\n"
          ]
        }
      ]
    },
    {
      "cell_type": "markdown",
      "source": [
        "4. Python Program to Calculate the Natural Logarithm of any Number:"
      ],
      "metadata": {
        "id": "dc-2UubCPCjs"
      }
    },
    {
      "cell_type": "code",
      "source": [
        "import math\n",
        "\n",
        "num = float(input(\"Enter a number: \"))\n",
        "\n",
        "if num <= 0:\n",
        "    print(\"Please enter a positive number\")\n",
        "else:\n",
        "    result = math.log(num)\n",
        "    print(f\"The natural logarithm of {num} is {result:.2f}\")\n"
      ],
      "metadata": {
        "colab": {
          "base_uri": "https://localhost:8080/"
        },
        "id": "oy0UDdo-PDEZ",
        "outputId": "3bb89d8e-b25e-4353-bcb3-2e47b83526f1"
      },
      "execution_count": 5,
      "outputs": [
        {
          "output_type": "stream",
          "name": "stdout",
          "text": [
            "Enter a number: 433\n",
            "The natural logarithm of 433.0 is 6.07\n"
          ]
        }
      ]
    },
    {
      "cell_type": "markdown",
      "source": [
        "5. Python Program for Cube Sum of First n Natural Numbers:"
      ],
      "metadata": {
        "id": "6AVf1WbcPBAm"
      }
    },
    {
      "cell_type": "code",
      "source": [
        "n = int(input(\"Enter the value of n: \"))\n",
        "\n",
        "sum = 0\n",
        "for i in range(1, n+1):\n",
        "    sum += i**3\n",
        "\n",
        "print(f\"The cube sum of first {n} natural numbers is {sum}\")\n"
      ],
      "metadata": {
        "colab": {
          "base_uri": "https://localhost:8080/"
        },
        "id": "TJiVd6iNPNVA",
        "outputId": "67dd15b1-b1a1-40af-b4dc-6186fe2b402d"
      },
      "execution_count": 6,
      "outputs": [
        {
          "output_type": "stream",
          "name": "stdout",
          "text": [
            "Enter the value of n: 34\n",
            "The cube sum of first 34 natural numbers is 354025\n"
          ]
        }
      ]
    }
  ]
}