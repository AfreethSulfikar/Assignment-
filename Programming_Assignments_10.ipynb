{
  "nbformat": 4,
  "nbformat_minor": 0,
  "metadata": {
    "colab": {
      "provenance": [],
      "authorship_tag": "ABX9TyM1GkxNWaIHADxh/bY0Wufh",
      "include_colab_link": true
    },
    "kernelspec": {
      "name": "python3",
      "display_name": "Python 3"
    },
    "language_info": {
      "name": "python"
    }
  },
  "cells": [
    {
      "cell_type": "markdown",
      "metadata": {
        "id": "view-in-github",
        "colab_type": "text"
      },
      "source": [
        "<a href=\"https://colab.research.google.com/github/AfreethSulfikar/Ineuron-Assignments/blob/main/Programming_Assignments_10.ipynb\" target=\"_parent\"><img src=\"https://colab.research.google.com/assets/colab-badge.svg\" alt=\"Open In Colab\"/></a>"
      ]
    },
    {
      "cell_type": "markdown",
      "source": [
        "1. Python program to find the sum of elements in a list:"
      ],
      "metadata": {
        "id": "zoCOT130RVEo"
      }
    },
    {
      "cell_type": "code",
      "source": [
        "my_list = [1, 2, 3, 4, 5]\n",
        "sum = 0\n",
        "\n",
        "for num in my_list:\n",
        "    sum += num\n",
        "\n",
        "print(\"Sum of elements in the list:\", sum)\n"
      ],
      "metadata": {
        "colab": {
          "base_uri": "https://localhost:8080/"
        },
        "id": "l2ufXcJPRXGx",
        "outputId": "a4fa0498-6e08-4f94-94ea-92dc6a85eb49"
      },
      "execution_count": 1,
      "outputs": [
        {
          "output_type": "stream",
          "name": "stdout",
          "text": [
            "Sum of elements in the list: 15\n"
          ]
        }
      ]
    },
    {
      "cell_type": "markdown",
      "source": [
        "2. Python program to multiply all numbers in a list:"
      ],
      "metadata": {
        "id": "rnFGaHL4RXj_"
      }
    },
    {
      "cell_type": "code",
      "execution_count": 2,
      "metadata": {
        "colab": {
          "base_uri": "https://localhost:8080/"
        },
        "id": "TCBYw4clRUcF",
        "outputId": "2d0364e5-de2d-4ce6-df22-d30ebbd32c13"
      },
      "outputs": [
        {
          "output_type": "stream",
          "name": "stdout",
          "text": [
            "Multiplication of all elements in the list: 120\n"
          ]
        }
      ],
      "source": [
        "my_list = [1, 2, 3, 4, 5]\n",
        "result = 1\n",
        "\n",
        "for num in my_list:\n",
        "    result *= num\n",
        "\n",
        "print(\"Multiplication of all elements in the list:\", result)\n"
      ]
    },
    {
      "cell_type": "markdown",
      "source": [
        "\n",
        "3. Python program to find the smallest number in a list:\n"
      ],
      "metadata": {
        "id": "INKrpg7PRcm1"
      }
    },
    {
      "cell_type": "code",
      "source": [
        "my_list = [10, 5, 20, 3, 15]\n",
        "smallest = my_list[0]\n",
        "\n",
        "for num in my_list:\n",
        "    if num < smallest:\n",
        "        smallest = num\n",
        "\n",
        "print(\"Smallest number in the list:\", smallest)\n"
      ],
      "metadata": {
        "colab": {
          "base_uri": "https://localhost:8080/"
        },
        "id": "WlaRb2QzRcty",
        "outputId": "20b25524-b3c0-4bee-dc67-93a596fe7fa0"
      },
      "execution_count": 3,
      "outputs": [
        {
          "output_type": "stream",
          "name": "stdout",
          "text": [
            "Smallest number in the list: 3\n"
          ]
        }
      ]
    },
    {
      "cell_type": "markdown",
      "source": [
        "4. Python program to find the largest number in a list:"
      ],
      "metadata": {
        "id": "xcIGbXv8RfXi"
      }
    },
    {
      "cell_type": "code",
      "source": [
        "my_list = [10, 5, 20, 3, 15]\n",
        "largest = my_list[0]\n",
        "\n",
        "for num in my_list:\n",
        "    if num > largest:\n",
        "        largest = num\n",
        "\n",
        "print(\"Largest number in the list:\", largest)\n"
      ],
      "metadata": {
        "colab": {
          "base_uri": "https://localhost:8080/"
        },
        "id": "Xxi3hLOERfeF",
        "outputId": "0b334590-17ab-45ed-e2fa-819f51dd8a82"
      },
      "execution_count": 4,
      "outputs": [
        {
          "output_type": "stream",
          "name": "stdout",
          "text": [
            "Largest number in the list: 20\n"
          ]
        }
      ]
    },
    {
      "cell_type": "markdown",
      "source": [
        "5. Python program to find the second largest number in a list:"
      ],
      "metadata": {
        "id": "R9LD2UI2RiTn"
      }
    },
    {
      "cell_type": "code",
      "source": [
        "my_list = [10, 5, 20, 3, 15]\n",
        "largest = second_largest = float('-inf')\n",
        "\n",
        "for num in my_list:\n",
        "    if num > largest:\n",
        "        second_largest = largest\n",
        "        largest = num\n",
        "    elif num > second_largest and num != largest:\n",
        "        second_largest = num\n",
        "\n",
        "print(\"Second largest number in the list:\", second_largest)\n"
      ],
      "metadata": {
        "colab": {
          "base_uri": "https://localhost:8080/"
        },
        "id": "G77j-nbsRiYA",
        "outputId": "e0746529-5b73-4050-bb3d-4ac8c204d6e1"
      },
      "execution_count": 5,
      "outputs": [
        {
          "output_type": "stream",
          "name": "stdout",
          "text": [
            "Second largest number in the list: 15\n"
          ]
        }
      ]
    },
    {
      "cell_type": "markdown",
      "source": [
        "\n",
        "6. Python program to find the N largest elements from a list:\n"
      ],
      "metadata": {
        "id": "c3PHFcEgRmbO"
      }
    },
    {
      "cell_type": "code",
      "source": [
        "my_list = [10, 5, 20, 3, 15]\n",
        "n = 3\n",
        "\n",
        "sorted_list = sorted(my_list, reverse=True)\n",
        "n_largest = sorted_list[:n]\n",
        "\n",
        "print(f\"{n} largest elements in the list:\", n_largest)\n"
      ],
      "metadata": {
        "colab": {
          "base_uri": "https://localhost:8080/"
        },
        "id": "FoVc21h9Rmf1",
        "outputId": "f7a5d533-4431-48d3-dbc2-7921f8ab4d08"
      },
      "execution_count": 6,
      "outputs": [
        {
          "output_type": "stream",
          "name": "stdout",
          "text": [
            "3 largest elements in the list: [20, 15, 10]\n"
          ]
        }
      ]
    },
    {
      "cell_type": "markdown",
      "source": [
        "7. Python program to print even numbers in a list:"
      ],
      "metadata": {
        "id": "TXrCFgHzRoGQ"
      }
    },
    {
      "cell_type": "code",
      "source": [
        "my_list = [1, 2, 3, 4, 5]\n",
        "even_list = []\n",
        "\n",
        "for num in my_list:\n",
        "    if num % 2 == 0:\n",
        "        even_list.append(num)\n",
        "\n",
        "print(\"Even numbers in the list:\", even_list)\n"
      ],
      "metadata": {
        "colab": {
          "base_uri": "https://localhost:8080/"
        },
        "id": "amFn0Kd2RoN3",
        "outputId": "e0e53e9f-fa85-4236-eb1f-33fb8b584b2c"
      },
      "execution_count": 7,
      "outputs": [
        {
          "output_type": "stream",
          "name": "stdout",
          "text": [
            "Even numbers in the list: [2, 4]\n"
          ]
        }
      ]
    },
    {
      "cell_type": "markdown",
      "source": [
        "8. Python program to print odd numbers in a list:"
      ],
      "metadata": {
        "id": "eS1uGJu5RtkJ"
      }
    },
    {
      "cell_type": "code",
      "source": [
        "my_list = [1, 2, 3, 4, 5]\n",
        "odd_list = []\n",
        "\n",
        "for num in my_list:\n",
        "    if num % 2 != 0:\n",
        "        odd_list.append(num)\n",
        "\n",
        "print(\"Odd numbers in the list:\", odd_list)\n"
      ],
      "metadata": {
        "colab": {
          "base_uri": "https://localhost:8080/"
        },
        "id": "tDuygVA7RtpZ",
        "outputId": "6fc6dfe8-a2de-47c1-9024-59a6569e5787"
      },
      "execution_count": 8,
      "outputs": [
        {
          "output_type": "stream",
          "name": "stdout",
          "text": [
            "Odd numbers in the list: [1, 3, 5]\n"
          ]
        }
      ]
    },
    {
      "cell_type": "markdown",
      "source": [
        "9. Python program to remove empty lists from a list:"
      ],
      "metadata": {
        "id": "aEibZlBvRwrQ"
      }
    },
    {
      "cell_type": "code",
      "source": [
        "my_list = [1, [], [2, 3], 4, [], 5, []]\n",
        "\n",
        "new_list = [item for item in my_list if item != []]\n",
        "\n",
        "print(\"List after removing empty lists:\", new_list)\n"
      ],
      "metadata": {
        "colab": {
          "base_uri": "https://localhost:8080/"
        },
        "id": "a0mwPjDYRwyn",
        "outputId": "34b2cbc4-e071-47b1-e8f5-6d7e5380efd1"
      },
      "execution_count": 9,
      "outputs": [
        {
          "output_type": "stream",
          "name": "stdout",
          "text": [
            "List after removing empty lists: [1, [2, 3], 4, 5]\n"
          ]
        }
      ]
    },
    {
      "cell_type": "markdown",
      "source": [
        "10. Python program to clone or copy a list:"
      ],
      "metadata": {
        "id": "TX8sIwwjRzdY"
      }
    },
    {
      "cell_type": "code",
      "source": [
        "my_list = [1, 2, 3, 4, 5]\n",
        "\n",
        "# Shallow copy\n",
        "new_list = my_list.copy()\n",
        "\n",
        "# Deep copy\n",
        "import copy\n",
        "new_list = copy.deepcopy(my_list)\n",
        "\n",
        "print(\"Original list:\", my_list)\n",
        "print(\"Copied list:\", new_list)\n"
      ],
      "metadata": {
        "colab": {
          "base_uri": "https://localhost:8080/"
        },
        "id": "XB2czqH0Rzjs",
        "outputId": "a25f227c-b4df-4218-ebfc-e5d2aeffc635"
      },
      "execution_count": 10,
      "outputs": [
        {
          "output_type": "stream",
          "name": "stdout",
          "text": [
            "Original list: [1, 2, 3, 4, 5]\n",
            "Copied list: [1, 2, 3, 4, 5]\n"
          ]
        }
      ]
    }
  ]
}